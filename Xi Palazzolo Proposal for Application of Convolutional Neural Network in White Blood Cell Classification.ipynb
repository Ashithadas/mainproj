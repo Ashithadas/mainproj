{
 "cells": [
  {
   "cell_type": "markdown",
   "metadata": {},
   "source": [
    "# Machine Learning Engineer Nanodegree\n",
    "## Capstone Proposal\n",
    "Xi C. Palazzolo \n",
    "August 4th, 2018\n",
    "\n",
    "## Proposal: Application of Machine Learning in White Blood Cell Classification"
   ]
  },
  {
   "cell_type": "markdown",
   "metadata": {},
   "source": [
    "### Domain Background\n",
    "\n",
    "White blood cell (WBC) differenciation plays an important role in clinical procedures that provides invaluable information to medical professionals for diagnose diseases in patients. Many blood diseases such as leukemia, acquired immunodeficiency syndrome (AIDS), or cancers can be diagonsed by processing the white blood cell differencial counts, ie., the counts of different cell classes (Theera-Umpon and Dhompongsa, 2007). Cell classification has widespread interest especially for clinics and laboratories. For example, patient’s blood cells\n",
    "counting is use to extract information about other cells that are not normally present in peripheral blood but may be released in certain disease processes by the hematologists. One of the great challenge to engineer especially biomedical engineer is to transform this human practical task into computer based which the system is comparable to human performance or better. Thus, the system must be stable and able to handle the uncertainty. Up to now, automatic cell classification systems can not meet the complexity of real clinical demands.\n",
    "\n",
    "Most of the proposed automatic techniques follow the traditional manual process of detecting a cell, extracting its features, classifying the cell, and then updating the counts. Ritter et al. presented a fully automatic method for segmentation and border identification of all objects that do not overlap the boundary in an image taken from a peripheral blood smear slide. In their work, pale tips of protuberances are lost. Ongun et al. did segmentation by morphological preprocessing followed by the snake-balloon algorithm. Jiang et al. proposed a WBC segmentation scheme on color space images using feature space clustering techniques, scale-space filtering for nucleus extraction, and watershed clustering for cytoplasm extraction. Leyza et al. used morphological operators and examined the scale-space properties of toggle operator to improve segmentation accuracy. Scotti presented the automatic morphological method that is based on the morphological analysis of WBCs. Their proposed system extracts the morphological indexes (lymphocytes). Kumar et al. used teager energy operator for segmentation, nucleus based on the edges, which are detected effectively by teager energy operator but it required at least a weak edge to exist between red blood cell (RBC) and the background. \n",
    "\n",
    "At the personal level, the motivation for this project came from my background in veterinary medicine. I was practicing as a veterinarian before changing my career path to data science. My former experience in clinical practices often involved blood cell classification on a daily basis, which was quite time-consuming and tedious. Therefore, I feel that if there is an algorithm built into a microscope that can greatly enhance diagosis.\n"
   ]
  },
  {
   "cell_type": "markdown",
   "metadata": {},
   "source": [
    "### Problem Statement\n",
    "\n",
    "Traditionally, blood cell classification is a rather complicated and frequently burdensome process. Patient’s blood cells counting were performed manually by medical technologists by viewing slide prepared with blood sample of the patient under microscope. A manual count will also give information about other cells that are not normally present in peripheral blood but might be released in certain disease. Unfortunately, the accuracy of cell classification and counting is strongly affected by individual operator’s capabilities. In particular, the identification and differential count of blood’s cell is a timeconsuming and repetitive task that can be influenced by operator’s accuracy and tiredness (Adollah et al., 2008). Thus, an automated counting system or algorithm is highly desired to help support such diagnostic procedures, which if effective, could potentially reduce cost and provide more timely information for patients' diagnosis and prognosis. This problem can be measured by the accuracy of the classification of cell classes: Eosinophil, Lymphocyte, Monocyte, and Neutrophil. "
   ]
  },
  {
   "cell_type": "markdown",
   "metadata": {},
   "source": [
    "### Datasets and Inputs\n",
    "\n",
    "This dataset is a publicly available dataset (https://www.kaggle.c-om/paultimothymooney/blood-cells/data), originated from the BCCD dataset (retrieved from https://github.com/Shenggan/BCCD_Dataset).The BCCD dataset is a small-scale dataset for blood cell detection. The latter dataset contains 12,500 augmented images of blood cells (JPEG) with accompanying cell type labels (CSV). This dataset is accompanied by an additional dataset containing the original 410 images (pre-augmentation) as well as two additional subtype labels (WBC vs WBC) and also bounding boxes for each cell in each of these 410 images (JPEG + XML metadata). Each original image of the BCCD dataset is of size 640 x 480. After augmentation, each image is of size 120 x 160 so I can train the model faster. \n",
    "\n",
    "The dataset obtained from Kaggle comprises of training and test sets, including 9,957 training and 2,487 testing images. In the training set, there are 2,497 eosinophil cell images, 2,483 lymphocyte cell images, 2,478 monocyte cell images, and 2,499 neutrophil cell images. In the testing set, there are 623 eosinophil cell images, 620 lymphocyte cell images, 620 monocyte cell images, and 624 neutrophil cell images. "
   ]
  },
  {
   "cell_type": "markdown",
   "metadata": {},
   "source": [
    "**Examples of the Dataset**\n",
    "\n",
    "<img src=\"Neutrophil.png\">"
   ]
  },
  {
   "cell_type": "markdown",
   "metadata": {},
   "source": [
    "### Solution Statement\n",
    "\n",
    "One solution to this problem is through the use of convolutional neural network (CNN). CNNs are models proposed by the development of biotechnology. Neurons are like local filtering of the entire input space, and they are well-organized together to achieve an understanding of the image in the entire field of view. CNN may extract the local and deep features of the input image. The performance of this model can be measured by its classification accuracy. \n"
   ]
  },
  {
   "cell_type": "markdown",
   "metadata": {},
   "source": [
    "### Benchmark Model\n",
    "\n",
    "In 2018, Liang and his colleagues published a model classifying white blood cell classes using the same datasets. In their research, they propose an architecture that combines CNN and recurrent neural network (RNN). According to Liang et al., RNNs are a neural network used to\n",
    "process sequence data. In the traditional neural network model, from the input layer to the hidden layer to the output layer, the layers are connected with each other, and the nodes between each layer are connected. Such network model cannot handle this kind of sequential data. Socher et al. (2012a) presented a convolutional-recursive deep model for 3D object classification that combined the convolutional and\n",
    "recurrent neural networks (CNN and RNN) together. The CNN layer learns low-level translation invariant features and then uses it as input to multiple fixed-tree RNNs to form higher order features. RNNs can be seen as combining convolution and pooling into one efficient, hierarchical operation. Kim et al.described a model that employed a convolutional neural network (CNN) and a highway network over characters, whose output is given to a long shortterm memory (LSTM) recurrent neural network language model (RNN-LM). These two models both obtain better results compared to a-priori methods.\n",
    "\n",
    "Liang et al.'s model consists of the following parts: Pre-trained convolutional neural network layer, RNN layer, Merge layer, and fully connected layer with Softmax output. This model integrates the local features extracted from the CNN and the features obtained from the RNN  to perform the blood cell classification. They used the CNN model pre-trained on the ImageNet dataset and retains its weight parameters. Liang and colleagues perceived the CNN and RNN as two separate branches. First, they freezed the pre-trained CNN model, used the pre-processed training data as the input of the RNN model, extract and save the obtained features, and merge the features from the RNN and CNN. The RNN weight parameters were constantly updated during training. Finally, they thawed all network layers and use the training data as input to the CNN model and the RNN model. In the CNN model, we applied different size and weight matrix windows in order to generate\n",
    "multiple feature maps. The features extracted from the RNN model and the features extracted from the CNN model are combined according to the corresponding element multiplication methods. And then, the classification results were displayed using Softmax. In addition, they also used a fine-tuning strategy to retrain the CNN-RNN framework, and finally obtained the classification results. Accuracy score was used to evaluate the performance of this model. "
   ]
  },
  {
   "cell_type": "markdown",
   "metadata": {},
   "source": [
    "\n",
    "### Evaluation Metrics\n",
    "\n",
    "Since the dataset used in this project contains labels, the performance of the model will be evaluated using accuracy score of the classification. In addition, validation loss and computational speed will be used to evaluate the model. All three metric results of this model will be used to compare to those of the benchmark model. "
   ]
  },
  {
   "cell_type": "markdown",
   "metadata": {},
   "source": [
    "### Project Design\n",
    "\n",
    "In my model, there will be four layers: \n",
    "\n",
    "1) Pre-trained CNN Layer\n",
    "\n",
    "I will use the weight parameters obtained by pre-training on the ImageNet dataset as the initialization weights of my CNN model. CNNs include convolutional layer and pooling layer.\n",
    "\n",
    "2) Convolutional Layer\n",
    "\n",
    "As the most important part of the convolutional neural network, the main way to calculate this layer is to use convolution windows with different sizes in order to perform convolution operations with the feature maps of the previous layer. Convolution windows of different sizes slide in sequence onto the feature map of the previous layer. The window size is usually 3×3 or 5×5, and the number of weight parameters of the convolutional layer also changes accordingly. The values of the neurons on each feature map in the convolutional layer are convoluted through corresponding windows, and then the final result is obtained based on the excitation function used in the layer.\n",
    "\n",
    "3) Pool Layer\n",
    "\n",
    "The calculation process of this layer is similar to the operation of the convolutional layer. The difference is that the sliding window of the lower sampling layer is usually 2 × 2, and the sliding step is 2. Therefore, this process will usually halved the feature map of the size of the previous layer, which to a large extent can greatly reduce the convolution weights of neural network parameters, the number of there are very good for the overall speed of the network training process to promote. At the same time, it also enables the network to become more adaptive to the scale of the image changes. In this project, I select the pre-train model -- Xception, and I will use the ReLU (Linear Rectification Function) as my activation function. Xception is another improved model of Google’s Inception v3. It mainly implements depthwise separable convolution to replace the original convolution operation in Inception v3. Xception, as an improved model for Inception v3, mainly introduces depthwise separable convolution on the basis of Inception v3, which improves the model’s effect without\n",
    "increasing network complexity. \n",
    "\n",
    "4) Fully Connected Layer with Softmax Output\n",
    "\n",
    "After features are generated by CNN layer, I will pass them to the fully connected Softmax layer, the output of which is the probability distribution of all classes. In addition, I will use the cross-entropy as a loss function to measure the difference between the actual output and the target output.\n"
   ]
  },
  {
   "cell_type": "markdown",
   "metadata": {},
   "source": [
    "### References \n",
    "\n",
    "- Adollah R., Mashor M.Y., Mohd Nasir N.F., Rosline H., Mahsin H., Adilah H. 2008. Blood Cell Image Segmentation: A Review. In: Abu Osman N.A., Ibrahim F., Wan Abas W.A.B., Abdul Rahman H.S., Ting HN. (eds) 4th Kuala Lumpur International Conference on Biomedical Engineering 2008. IFMBE Proceedings, vol 21. Springer, Berlin, Heidelberg.\n",
    "\n",
    "- Dorini LB, Minetto R, Leite NJ: White blood cell segmentation using morphological operators and scale-space analysis. 2007. SIBGRAPI '07: Proceedings of the XX Brazilian Symposium on Computer Graphics and Image Processing. \n",
    "\n",
    "- Jiang Kan, Liao Qing-Min, Dai Sheng-Yang: A novel white blood cell segmentation scheme using scale-space filtering and watershed clustering. Machine Learning and Cybernetics, 2003 International Conference on. 2003, 5: 2820-2825.\n",
    "\n",
    "- Kim Y, Y. Jernite, D. Sontag, and A. M. Rush. 2015. Character-aware neural language models. Computer Science.\n",
    "\n",
    "- Kumar BR, Joseph DK, Sreenivasc TV. 2002. Teager energy based blood cell segmentation. Digital Signal Processing. DSP 2002 14th International Conference on. 2: 619-622.\n",
    "\n",
    "- GAOBO LIANG , HUICHAO HONG, WEIFANG XIE, AND LIXIN ZHENG. 2018. Combining Convolutional Neural Network With Recursive Neural Network for\n",
    "Blood Cell Image Classification. Institute of Electrical and Electronics Engineers. 6: 36188-36197. \n",
    "\n",
    "\n",
    "- Nipon Theera-Umpon and Sompong Dhompongsa. 2007. Morphological Granulometric Features of Nucleus in Automatic Bone Marrow White Blood Cell Classification. IEEE TRANSACTIONS ON INFORMATION TECHNOLOGY IN BIOMEDICINE, VOL. 11, NO. 3.\n",
    "\n",
    "- Ongun G, Halici U, Leblebicioglu K, Atalay V, Beksac M, Beksac S. 2001. Feature extraction and classification of blood cells for an automated differential blood count system. Neural Networks. Proceedings. IJCNN '01. International Joint Conference on. 4: 2461-2466.\n",
    "\n",
    "- Ritter N, Cooper J. 2007. Segmentation and border identification of cells in images of peripheral blood smear slides. Proceedings of the Thirtieth Australasian Conference on Computer Science. 62: 161-169.\n",
    "\n",
    "-  Socher R, B. Huval, B. Bath, C. D. Manning, and A. Y. Ng. 2012. Convolutional-recursive deep learning for 3D object classification. Proceedings of Neural Information Processing Systems. 656–664.\n",
    "\n",
    "- Scotti F. 2005. Automatic morphological analysis for acute leukemia identification in peripheral blood microscope images. 2005 IEEE International Conference on Computational Intelligence for Measurement Systems and Applications, CIMSA, 96-101."
   ]
  }
 ],
 "metadata": {
  "kernelspec": {
   "display_name": "Python 3",
   "language": "python",
   "name": "python3"
  },
  "language_info": {
   "codemirror_mode": {
    "name": "ipython",
    "version": 3
   },
   "file_extension": ".py",
   "mimetype": "text/x-python",
   "name": "python",
   "nbconvert_exporter": "python",
   "pygments_lexer": "ipython3",
   "version": "3.6.5"
  }
 },
 "nbformat": 4,
 "nbformat_minor": 2
}
